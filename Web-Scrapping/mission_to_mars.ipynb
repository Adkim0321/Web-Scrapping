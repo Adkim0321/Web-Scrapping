{
 "cells": [
  {
   "cell_type": "code",
   "execution_count": 1,
   "id": "855339ea-19ef-4140-ba2f-e3579ef2fc7d",
   "metadata": {},
   "outputs": [],
   "source": [
    "#Dependencies\n",
    "from splinter import Browser\n",
    "from bs4 import BeautifulSoup\n",
    "from webdriver_manager.chrome import ChromeDriverManager\n",
    "import time\n"
   ]
  },
  {
   "cell_type": "markdown",
   "id": "e7141da9-eac8-475f-a72c-94fa1ac5101f",
   "metadata": {},
   "source": [
    "# MARS Article Scraping\n",
    "\n",
    "### Pull title and paragraph\n"
   ]
  },
  {
   "cell_type": "code",
   "execution_count": 2,
   "id": "d790ae64-f969-469c-b661-e38cc5816123",
   "metadata": {
    "tags": []
   },
   "outputs": [
    {
     "name": "stderr",
     "output_type": "stream",
     "text": [
      "\n",
      "\n",
      "====== WebDriver manager ======\n",
      "Current google-chrome version is 99.0.4844\n",
      "Get LATEST chromedriver version for 99.0.4844 google-chrome\n",
      "Driver [/Users/andrewkim/.wdm/drivers/chromedriver/mac64/99.0.4844.51/chromedriver] found in cache\n"
     ]
    }
   ],
   "source": [
    "# Setup splinter\n",
    "executable_path = {'executable_path': ChromeDriverManager().install()}\n",
    "browser = Browser('chrome', **executable_path, headless=False)"
   ]
  },
  {
   "cell_type": "code",
   "execution_count": 3,
   "id": "4205e861-e45e-4750-84b3-57b5a6caa7ab",
   "metadata": {
    "tags": []
   },
   "outputs": [],
   "source": [
    "# Scrape the Mars News Site\n",
    "url = \"https://redplanetscience.com/\"\n",
    "browser.visit(url)"
   ]
  },
  {
   "cell_type": "code",
   "execution_count": 4,
   "id": "1bea5bc7-5397-481a-a738-9546fd550ebd",
   "metadata": {},
   "outputs": [],
   "source": [
    "# Create html and tie to BeautifulSoup\n",
    "html = browser.html\n",
    "soup = BeautifulSoup(html, \"html.parser\")"
   ]
  },
  {
   "cell_type": "code",
   "execution_count": 5,
   "id": "db99bd0f-7fff-4d3a-9566-85bc8d1e039b",
   "metadata": {},
   "outputs": [
    {
     "data": {
      "text/plain": [
       "\"NASA's New Mars Rover Will Use X-Rays to Hunt Fossils\""
      ]
     },
     "execution_count": 5,
     "metadata": {},
     "output_type": "execute_result"
    }
   ],
   "source": [
    "# Find Title \n",
    "news_title = soup.find('div', class_=\"content_title\").text\n",
    "news_title"
   ]
  },
  {
   "cell_type": "markdown",
   "id": "efb8d61b",
   "metadata": {},
   "source": []
  },
  {
   "cell_type": "code",
   "execution_count": 6,
   "id": "5df02ef8-1636-4f79-9a77-a199eff4b2d9",
   "metadata": {
    "tags": []
   },
   "outputs": [
    {
     "data": {
      "text/plain": [
       "\"PIXL, an instrument on the end of the Perseverance rover's arm, will search for chemical fingerprints left by ancient microbes.\""
      ]
     },
     "execution_count": 6,
     "metadata": {},
     "output_type": "execute_result"
    }
   ],
   "source": [
    "# Find Paragraph Text\n",
    "news_p = soup.find('div', class_=\"article_teaser_body\").text\n",
    "news_p"
   ]
  },
  {
   "cell_type": "code",
   "execution_count": null,
   "id": "047b5869-950e-42b9-88a6-254cd6d404c5",
   "metadata": {},
   "outputs": [],
   "source": []
  },
  {
   "cell_type": "markdown",
   "id": "80939e30-a099-4e25-8d5f-8817a0fcfcfe",
   "metadata": {},
   "source": [
    "# MARS Image Scraping\n",
    "\n",
    "### Pull Image"
   ]
  },
  {
   "cell_type": "code",
   "execution_count": 7,
   "id": "b0903bdd-db6d-4534-9dc9-dfcc03d5d220",
   "metadata": {
    "tags": []
   },
   "outputs": [],
   "source": [
    "# Scrape the Mars Image Site\n",
    "img_url = \"https://spaceimages-mars.com/\"\n",
    "browser.visit(img_url)"
   ]
  },
  {
   "cell_type": "code",
   "execution_count": 8,
   "id": "f3d35913-a5eb-41a3-8077-d8713eccea6e",
   "metadata": {
    "tags": []
   },
   "outputs": [],
   "source": [
    "# Create html and tie to BeautifulSoup\n",
    "time.sleep(3)\n",
    "browser.links.find_by_partial_text('FULL IMAGE').click()"
   ]
  },
  {
   "cell_type": "code",
   "execution_count": 9,
   "id": "a78a157e-020e-451c-a1ce-90689cc406e0",
   "metadata": {
    "tags": []
   },
   "outputs": [],
   "source": [
    "# Find Image\n",
    "# Create HTML object\n",
    "featured_pg = browser.html\n",
    "# Create BeautifulSoup object and parse with HTML parser\n",
    "img_soup = BeautifulSoup(featured_pg, \"html.parser\")"
   ]
  },
  {
   "cell_type": "code",
   "execution_count": 10,
   "id": "d46a4f86-c24f-41cf-a586-9fc4e09a60ac",
   "metadata": {
    "tags": []
   },
   "outputs": [
    {
     "name": "stdout",
     "output_type": "stream",
     "text": [
      "image/featured/mars1.jpg\n"
     ]
    }
   ],
   "source": [
    "# Get featured image url\n",
    "featured_img = img_soup.find(\"img\", class_=\"fancybox-image\")\n",
    "featured_img_url =featured_img[\"src\"]\n",
    "print(featured_img_url)"
   ]
  },
  {
   "cell_type": "code",
   "execution_count": 11,
   "id": "db75e7eb-60d7-47a2-be34-292ad733b8d9",
   "metadata": {
    "tags": []
   },
   "outputs": [
    {
     "data": {
      "text/plain": [
       "'https://spaceimages-mars.com/image/featured/mars1.jpg'"
      ]
     },
     "execution_count": 11,
     "metadata": {},
     "output_type": "execute_result"
    }
   ],
   "source": [
    "featured_img_url = (\"https://spaceimages-mars.com/\" + featured_img_url)\n",
    "featured_img_url"
   ]
  },
  {
   "cell_type": "code",
   "execution_count": 12,
   "id": "9c2498af-a98c-45fa-a581-b03b8e94746d",
   "metadata": {
    "tags": []
   },
   "outputs": [],
   "source": [
    "browser.quit()"
   ]
  },
  {
   "cell_type": "markdown",
   "id": "1fe16c83-69f0-480f-bf37-e234a4738cbd",
   "metadata": {},
   "source": [
    "# MARS Facts Table Pull\n",
    "\n",
    "### Pull table\n",
    "\n"
   ]
  },
  {
   "cell_type": "code",
   "execution_count": 27,
   "id": "ff3a902f-9f1d-436f-be3d-c345b6817ade",
   "metadata": {},
   "outputs": [],
   "source": [
    "import pandas as pd\n",
    "from IPython.display import HTML"
   ]
  },
  {
   "cell_type": "code",
   "execution_count": 14,
   "id": "ffd86c95-048a-4a06-86b8-de891b896974",
   "metadata": {},
   "outputs": [
    {
     "data": {
      "text/plain": [
       "[                         0                1                2\n",
       " 0  Mars - Earth Comparison             Mars            Earth\n",
       " 1                Diameter:         6,779 km        12,742 km\n",
       " 2                    Mass:  6.39 × 10^23 kg  5.97 × 10^24 kg\n",
       " 3                   Moons:                2                1\n",
       " 4       Distance from Sun:   227,943,824 km   149,598,262 km\n",
       " 5          Length of Year:   687 Earth days      365.24 days\n",
       " 6             Temperature:     -87 to -5 °C      -88 to 58°C,\n",
       "                       0                              1\n",
       " 0  Equatorial Diameter:                       6,792 km\n",
       " 1       Polar Diameter:                       6,752 km\n",
       " 2                 Mass:  6.39 × 10^23 kg (0.11 Earths)\n",
       " 3                Moons:          2 ( Phobos & Deimos )\n",
       " 4       Orbit Distance:       227,943,824 km (1.38 AU)\n",
       " 5         Orbit Period:           687 days (1.9 years)\n",
       " 6  Surface Temperature:                   -87 to -5 °C\n",
       " 7         First Record:              2nd millennium BC\n",
       " 8          Recorded By:           Egyptian astronomers]"
      ]
     },
     "execution_count": 14,
     "metadata": {},
     "output_type": "execute_result"
    }
   ],
   "source": [
    "url = 'https://galaxyfacts-mars.com'\n",
    "tables = pd.read_html(url)\n",
    "tables"
   ]
  },
  {
   "cell_type": "code",
   "execution_count": 15,
   "id": "73cbac4b-0a1c-4eca-a444-40117d2a21c7",
   "metadata": {},
   "outputs": [
    {
     "name": "stdout",
     "output_type": "stream",
     "text": [
      "                                    Mars            Earth\n",
      "Details                                                  \n",
      "Mars - Earth Comparison             Mars            Earth\n",
      "Diameter:                       6,779 km        12,742 km\n",
      "Mass:                    6.39 × 10^23 kg  5.97 × 10^24 kg\n",
      "Moons:                                 2                1\n",
      "Distance from Sun:        227,943,824 km   149,598,262 km\n",
      "Length of Year:           687 Earth days      365.24 days\n",
      "Temperature:                -87 to -5 °C      -88 to 58°C\n"
     ]
    }
   ],
   "source": [
    "df = tables[0]\n",
    "df.columns = ['Details','Mars', 'Earth']\n",
    "df.set_index('Details', inplace=True)\n",
    "print(df)"
   ]
  },
  {
   "cell_type": "code",
   "execution_count": 29,
   "id": "8573e0d3",
   "metadata": {},
   "outputs": [
    {
     "name": "stdout",
     "output_type": "stream",
     "text": [
      "<table border=\"1\" class=\"dataframe\">\n",
      "  <thead>\n",
      "    <tr style=\"text-align: right;\">\n",
      "      <th></th>\n",
      "      <th>Mars</th>\n",
      "      <th>Earth</th>\n",
      "    </tr>\n",
      "    <tr>\n",
      "      <th>Details</th>\n",
      "      <th></th>\n",
      "      <th></th>\n",
      "    </tr>\n",
      "  </thead>\n",
      "  <tbody>\n",
      "    <tr>\n",
      "      <th>Mars - Earth Comparison</th>\n",
      "      <td>Mars</td>\n",
      "      <td>Earth</td>\n",
      "    </tr>\n",
      "    <tr>\n",
      "      <th>Diameter:</th>\n",
      "      <td>6,779 km</td>\n",
      "      <td>12,742 km</td>\n",
      "    </tr>\n",
      "    <tr>\n",
      "      <th>Mass:</th>\n",
      "      <td>6.39 × 10^23 kg</td>\n",
      "      <td>5.97 × 10^24 kg</td>\n",
      "    </tr>\n",
      "    <tr>\n",
      "      <th>Moons:</th>\n",
      "      <td>2</td>\n",
      "      <td>1</td>\n",
      "    </tr>\n",
      "    <tr>\n",
      "      <th>Distance from Sun:</th>\n",
      "      <td>227,943,824 km</td>\n",
      "      <td>149,598,262 km</td>\n",
      "    </tr>\n",
      "    <tr>\n",
      "      <th>Length of Year:</th>\n",
      "      <td>687 Earth days</td>\n",
      "      <td>365.24 days</td>\n",
      "    </tr>\n",
      "    <tr>\n",
      "      <th>Temperature:</th>\n",
      "      <td>-87 to -5 °C</td>\n",
      "      <td>-88 to 58°C</td>\n",
      "    </tr>\n",
      "  </tbody>\n",
      "</table>\n"
     ]
    }
   ],
   "source": [
    "\n",
    "df_html = df.to_html()\n",
    "print(df_html)"
   ]
  },
  {
   "cell_type": "markdown",
   "id": "2b5b72f1-aae4-43e0-a169-2ca8048227d6",
   "metadata": {
    "tags": []
   },
   "source": [
    "# MARS Hemispheres Img Scraping\n"
   ]
  },
  {
   "cell_type": "code",
   "execution_count": 16,
   "id": "a80595a7-73cf-4192-8089-1ade44b4f611",
   "metadata": {},
   "outputs": [
    {
     "name": "stderr",
     "output_type": "stream",
     "text": [
      "\n",
      "\n",
      "====== WebDriver manager ======\n",
      "Current google-chrome version is 99.0.4844\n",
      "Get LATEST chromedriver version for 99.0.4844 google-chrome\n",
      "Driver [/Users/andrewkim/.wdm/drivers/chromedriver/mac64/99.0.4844.51/chromedriver] found in cache\n"
     ]
    }
   ],
   "source": [
    "# Setup splinter\n",
    "executable_path = {'executable_path': ChromeDriverManager().install()}\n",
    "browser = Browser('chrome', **executable_path, headless=False)"
   ]
  },
  {
   "cell_type": "code",
   "execution_count": 17,
   "id": "f304d651-f75b-4911-91e3-9c134e777c76",
   "metadata": {
    "tags": []
   },
   "outputs": [],
   "source": [
    "# Scrape the Mars Image Site\n",
    "hem_url = 'https://marshemispheres.com/'\n",
    "browser.visit(hem_url)"
   ]
  },
  {
   "cell_type": "code",
   "execution_count": 18,
   "id": "83840770-389a-425c-bf87-a04136e8fe02",
   "metadata": {},
   "outputs": [],
   "source": [
    "hem_imgs_html = browser.html\n",
    "hem_soup = BeautifulSoup(hem_imgs_html, 'html.parser')"
   ]
  },
  {
   "cell_type": "code",
   "execution_count": 19,
   "id": "3cab43c1-ea38-499b-9876-73ebb19352f7",
   "metadata": {},
   "outputs": [
    {
     "data": {
      "text/plain": [
       "[<h3>Cerberus Hemisphere Enhanced</h3>,\n",
       " <h3>Schiaparelli Hemisphere Enhanced</h3>,\n",
       " <h3>Syrtis Major Hemisphere Enhanced</h3>,\n",
       " <h3>Valles Marineris Hemisphere Enhanced</h3>,\n",
       " <h3>Back</h3>]"
      ]
     },
     "execution_count": 19,
     "metadata": {},
     "output_type": "execute_result"
    }
   ],
   "source": [
    "# Article Titles\n",
    "hem_titles = hem_soup.find_all('h3')\n",
    "hem_titles"
   ]
  },
  {
   "cell_type": "code",
   "execution_count": 20,
   "id": "98cfce98-0999-4662-9bbf-d8c006016c84",
   "metadata": {
    "tags": []
   },
   "outputs": [],
   "source": [
    "hemisphere_image_urls = []\n",
    "hemisphere_dicts = {\"title\": [] , \"img_url\": []}\n",
    "\n",
    "for titles in hem_titles[0:4]:\n",
    "\n",
    "    title = titles.text\n",
    "    \n",
    "    # Scrape the Mars Image Site\n",
    "    img_url = \"https://marshemispheres.com/\"\n",
    "    browser.visit(img_url)\n",
    "    \n",
    "    browser.links.find_by_partial_text(title).click()\n",
    "    browser.links.find_by_partial_text(\"Sample\").click()\n",
    "    \n",
    "    # Create HTML and tie to BeautifulSoup\n",
    "    img_html = browser.html\n",
    "\n",
    "    # Create BeautifulSoup object and parse with HTML parser\n",
    "    img_soup = BeautifulSoup(img_html, \"html.parser\")\n",
    "    \n",
    "    featured_img = img_soup.find(\"div\", class_ = \"downloads\").find(\"ul\").find(\"li\").find(\"a\")[\"href\"]\n",
    "    featured_img = (\"https://marshemispheres.com/\" + featured_img)\n",
    "    \n",
    "    \n",
    "    hemisphere_dicts = {\"title\": title, \"img_url\": featured_img}\n",
    "    hemisphere_image_urls.append(hemisphere_dicts)\n",
    "\n",
    "browser.quit()"
   ]
  },
  {
   "cell_type": "code",
   "execution_count": 21,
   "id": "af1ab351-abca-429c-a021-f15a982b4a07",
   "metadata": {},
   "outputs": [
    {
     "name": "stdout",
     "output_type": "stream",
     "text": [
      "[{'title': 'Cerberus Hemisphere Enhanced', 'img_url': 'https://marshemispheres.com/images/full.jpg'}, {'title': 'Schiaparelli Hemisphere Enhanced', 'img_url': 'https://marshemispheres.com/images/schiaparelli_enhanced-full.jpg'}, {'title': 'Syrtis Major Hemisphere Enhanced', 'img_url': 'https://marshemispheres.com/images/syrtis_major_enhanced-full.jpg'}, {'title': 'Valles Marineris Hemisphere Enhanced', 'img_url': 'https://marshemispheres.com/images/valles_marineris_enhanced-full.jpg'}]\n"
     ]
    }
   ],
   "source": [
    "print(hemisphere_image_urls)\n"
   ]
  },
  {
   "cell_type": "code",
   "execution_count": null,
   "id": "977c45c1",
   "metadata": {},
   "outputs": [],
   "source": []
  }
 ],
 "metadata": {
  "kernelspec": {
   "display_name": "Python 3 (ipykernel)",
   "language": "python",
   "name": "python3"
  },
  "language_info": {
   "codemirror_mode": {
    "name": "ipython",
    "version": 3
   },
   "file_extension": ".py",
   "mimetype": "text/x-python",
   "name": "python",
   "nbconvert_exporter": "python",
   "pygments_lexer": "ipython3",
   "version": "3.9.7"
  }
 },
 "nbformat": 4,
 "nbformat_minor": 5
}
